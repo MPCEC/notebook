{
 "cells": [
  {
   "cell_type": "markdown",
   "id": "14c8c94b-5263-47df-905a-3658ffa309b1",
   "metadata": {},
   "source": [
    "# Importação das bibliotecas"
   ]
  },
  {
   "cell_type": "code",
   "execution_count": 32,
   "id": "53db9c39-3c16-4862-bf16-1d879623a31c",
   "metadata": {},
   "outputs": [],
   "source": [
    "import pandas as pd\n",
    "import matplotlib.pyplot as plt\n",
    "from sklearn.linear_model import LinearRegression\n",
    "import numpy as np\n",
    "%matplotlib inline"
   ]
  },
  {
   "cell_type": "markdown",
   "id": "2ef6b150-78b0-4c49-b023-7dcee63145b8",
   "metadata": {},
   "source": [
    "# Analise exploratória dos dados"
   ]
  },
  {
   "cell_type": "code",
   "execution_count": null,
   "id": "e78b3a1d-85c3-4322-aaa1-a932014febae",
   "metadata": {},
   "outputs": [
    {
     "data": {
      "text/html": [
       "<div>\n",
       "<style scoped>\n",
       "    .dataframe tbody tr th:only-of-type {\n",
       "        vertical-align: middle;\n",
       "    }\n",
       "\n",
       "    .dataframe tbody tr th {\n",
       "        vertical-align: top;\n",
       "    }\n",
       "\n",
       "    .dataframe thead th {\n",
       "        text-align: right;\n",
       "    }\n",
       "</style>\n",
       "<table border=\"1\" class=\"dataframe\">\n",
       "  <thead>\n",
       "    <tr style=\"text-align: right;\">\n",
       "      <th></th>\n",
       "      <th>ano</th>\n",
       "      <th>mes</th>\n",
       "      <th>sigla_uf</th>\n",
       "      <th>tipo_consumo</th>\n",
       "      <th>numero_consumidores</th>\n",
       "      <th>consumo</th>\n",
       "    </tr>\n",
       "  </thead>\n",
       "  <tbody>\n",
       "    <tr>\n",
       "      <th>0</th>\n",
       "      <td>2004</td>\n",
       "      <td>1</td>\n",
       "      <td>RO</td>\n",
       "      <td>Total</td>\n",
       "      <td>NaN</td>\n",
       "      <td>112812.00</td>\n",
       "    </tr>\n",
       "    <tr>\n",
       "      <th>1</th>\n",
       "      <td>2004</td>\n",
       "      <td>1</td>\n",
       "      <td>AC</td>\n",
       "      <td>Total</td>\n",
       "      <td>NaN</td>\n",
       "      <td>34840.05</td>\n",
       "    </tr>\n",
       "    <tr>\n",
       "      <th>2</th>\n",
       "      <td>2004</td>\n",
       "      <td>1</td>\n",
       "      <td>AM</td>\n",
       "      <td>Total</td>\n",
       "      <td>NaN</td>\n",
       "      <td>274773.00</td>\n",
       "    </tr>\n",
       "    <tr>\n",
       "      <th>3</th>\n",
       "      <td>2004</td>\n",
       "      <td>1</td>\n",
       "      <td>RR</td>\n",
       "      <td>Total</td>\n",
       "      <td>NaN</td>\n",
       "      <td>31695.63</td>\n",
       "    </tr>\n",
       "    <tr>\n",
       "      <th>4</th>\n",
       "      <td>2004</td>\n",
       "      <td>1</td>\n",
       "      <td>PA</td>\n",
       "      <td>Total</td>\n",
       "      <td>NaN</td>\n",
       "      <td>1011353.04</td>\n",
       "    </tr>\n",
       "    <tr>\n",
       "      <th>...</th>\n",
       "      <td>...</td>\n",
       "      <td>...</td>\n",
       "      <td>...</td>\n",
       "      <td>...</td>\n",
       "      <td>...</td>\n",
       "      <td>...</td>\n",
       "    </tr>\n",
       "    <tr>\n",
       "      <th>34987</th>\n",
       "      <td>2021</td>\n",
       "      <td>12</td>\n",
       "      <td>RS</td>\n",
       "      <td>Outros</td>\n",
       "      <td>NaN</td>\n",
       "      <td>536361.21</td>\n",
       "    </tr>\n",
       "    <tr>\n",
       "      <th>34988</th>\n",
       "      <td>2021</td>\n",
       "      <td>12</td>\n",
       "      <td>MS</td>\n",
       "      <td>Outros</td>\n",
       "      <td>NaN</td>\n",
       "      <td>117731.09</td>\n",
       "    </tr>\n",
       "    <tr>\n",
       "      <th>34989</th>\n",
       "      <td>2021</td>\n",
       "      <td>12</td>\n",
       "      <td>MT</td>\n",
       "      <td>Outros</td>\n",
       "      <td>NaN</td>\n",
       "      <td>187555.43</td>\n",
       "    </tr>\n",
       "    <tr>\n",
       "      <th>34990</th>\n",
       "      <td>2021</td>\n",
       "      <td>12</td>\n",
       "      <td>GO</td>\n",
       "      <td>Outros</td>\n",
       "      <td>NaN</td>\n",
       "      <td>262164.46</td>\n",
       "    </tr>\n",
       "    <tr>\n",
       "      <th>34991</th>\n",
       "      <td>2021</td>\n",
       "      <td>12</td>\n",
       "      <td>DF</td>\n",
       "      <td>Outros</td>\n",
       "      <td>NaN</td>\n",
       "      <td>118632.54</td>\n",
       "    </tr>\n",
       "  </tbody>\n",
       "</table>\n",
       "<p>34992 rows × 6 columns</p>\n",
       "</div>"
      ],
      "text/plain": [
       "        ano  mes sigla_uf tipo_consumo  numero_consumidores     consumo\n",
       "0      2004    1       RO        Total                  NaN   112812.00\n",
       "1      2004    1       AC        Total                  NaN    34840.05\n",
       "2      2004    1       AM        Total                  NaN   274773.00\n",
       "3      2004    1       RR        Total                  NaN    31695.63\n",
       "4      2004    1       PA        Total                  NaN  1011353.04\n",
       "...     ...  ...      ...          ...                  ...         ...\n",
       "34987  2021   12       RS       Outros                  NaN   536361.21\n",
       "34988  2021   12       MS       Outros                  NaN   117731.09\n",
       "34989  2021   12       MT       Outros                  NaN   187555.43\n",
       "34990  2021   12       GO       Outros                  NaN   262164.46\n",
       "34991  2021   12       DF       Outros                  NaN   118632.54\n",
       "\n",
       "[34992 rows x 6 columns]"
      ]
     },
     "metadata": {},
     "output_type": "display_data"
    }
   ],
   "source": [
    "df = pd.read_csv('uf.csv')\n",
    "display(df)"
   ]
  },
  {
   "cell_type": "code",
   "execution_count": 27,
   "id": "a66e24d2-995d-460e-8db0-8637fce3ba3f",
   "metadata": {},
   "outputs": [
    {
     "name": "stdout",
     "output_type": "stream",
     "text": [
      "['ano', 'mes', 'sigla_uf', 'tipo_consumo', 'numero_consumidores', 'consumo']\n"
     ]
    }
   ],
   "source": [
    "#Todos os atributos deste dataset\n",
    "colunas = df.columns.tolist()\n",
    "print(colunas)"
   ]
  },
  {
   "cell_type": "code",
   "execution_count": 4,
   "id": "0ebc2140-6a01-4441-86d1-9d375c3bf7a6",
   "metadata": {},
   "outputs": [
    {
     "name": "stdout",
     "output_type": "stream",
     "text": [
      "['Total' 'Cativo' 'Residencial' 'Industrial' 'Comercial' 'Outros']\n"
     ]
    }
   ],
   "source": [
    "#Mostra os objetos dentro do atributo tipo_consumo\n",
    "objetos_unicos = df['tipo_consumo'].unique()\n",
    "print(objetos_unicos)"
   ]
  },
  {
   "cell_type": "code",
   "execution_count": 5,
   "id": "e20ee1ed-879f-464c-82fb-7f8557586e4e",
   "metadata": {},
   "outputs": [
    {
     "name": "stdout",
     "output_type": "stream",
     "text": [
      "[    nan 258610. 103396. ... 217344. 234909.  17257.]\n"
     ]
    }
   ],
   "source": [
    "#Mostra os objetos dentro do atributo numero_consumidores\n",
    "objetos_unicos = df['numero_consumidores'].unique()\n",
    "print(objetos_unicos)"
   ]
  },
  {
   "cell_type": "code",
   "execution_count": 6,
   "id": "a0f3d219-a4e6-4420-a238-d79c98acbfd8",
   "metadata": {},
   "outputs": [
    {
     "name": "stdout",
     "output_type": "stream",
     "text": [
      "404.0      7\n",
      "441.0      7\n",
      "9546.0     6\n",
      "465.0      6\n",
      "2664.0     6\n",
      "          ..\n",
      "3885.0     1\n",
      "9593.0     1\n",
      "534.0      1\n",
      "10961.0    1\n",
      "17257.0    1\n",
      "Name: numero_consumidores, Length: 20875, dtype: int64\n"
     ]
    }
   ],
   "source": [
    "#Mostra a frequencia de cada um dos objetos em numero_consumidores\n",
    "frequencia_objetos = df['numero_consumidores'].value_counts()\n",
    "print(frequencia_objetos)"
   ]
  },
  {
   "cell_type": "code",
   "execution_count": 7,
   "id": "8f28321c-e01d-4adc-8882-dfbbd2a20bdf",
   "metadata": {},
   "outputs": [
    {
     "name": "stdout",
     "output_type": "stream",
     "text": [
      "O atributo \"numero_consumidores\" contém 12417 valores NaN.\n"
     ]
    }
   ],
   "source": [
    "# crie uma máscara booleana para valores NaN no atributo \"numero_consumidores\"\n",
    "mask = df['numero_consumidores'].isna()\n",
    "\n",
    "# conte o número de valores True na máscara\n",
    "num_nans = mask.sum()\n",
    "\n",
    "# imprima o número de valores NaN\n",
    "print(f'O atributo \"numero_consumidores\" contém {num_nans} valores NaN.')\n"
   ]
  },
  {
   "cell_type": "code",
   "execution_count": 8,
   "id": "bf8032dd-3e77-4fc8-be96-7ad080967741",
   "metadata": {},
   "outputs": [
    {
     "name": "stdout",
     "output_type": "stream",
     "text": [
      "O número de células válidas no atributo numero_consumidores é de  22575\n"
     ]
    }
   ],
   "source": [
    "xnum = 34992 - 12417\n",
    "print(\"O número de células válidas no atributo numero_consumidores é de \", xnum)"
   ]
  },
  {
   "cell_type": "code",
   "execution_count": 18,
   "id": "2f688f17-4811-4d75-917b-b3bcebb18609",
   "metadata": {},
   "outputs": [
    {
     "data": {
      "image/png": "[encoded data removed]",
      "text/plain": [
       "<Figure size 640x480 with 1 Axes>"
      ]
     },
     "metadata": {},
     "output_type": "display_data"
    }
   ],
   "source": [
    "x = df['consumo'].round(6)\n",
    "y = df['ano']\n",
    "\n",
    "plt.scatter(x, y)\n",
    "\n",
    "plt.xlabel('Consumo')\n",
    "plt.ylabel('Ano')\n",
    "plt.show()"
   ]
  },
  {
   "cell_type": "code",
   "execution_count": 19,
   "id": "236c0998-881e-48c7-8cd7-1e8ea2f44005",
   "metadata": {},
   "outputs": [
    {
     "data": {
      "image/png": "[encoded data removed]",
      "text/plain": [
       "<Figure size 640x480 with 1 Axes>"
      ]
     },
     "metadata": {},
     "output_type": "display_data"
    }
   ],
   "source": [
    "x = df['ano']\n",
    "y = df['consumo'].round(6)\n",
    "\n",
    "plt.scatter(x, y)\n",
    "\n",
    "plt.xlabel('Ano')\n",
    "plt.ylabel('Consumo')\n",
    "plt.show()"
   ]
  },
  {
   "cell_type": "code",
   "execution_count": 17,
   "id": "2fb998f5-c4ac-4c2f-b368-699838213aa3",
   "metadata": {},
   "outputs": [
    {
     "data": {
      "image/png": "[encoded data removed]",
      "text/plain": [
       "<Figure size 640x480 with 1 Axes>"
      ]
     },
     "metadata": {},
     "output_type": "display_data"
    }
   ],
   "source": [
    "x = df['ano']\n",
    "y = df['consumo'].round(6)\n",
    "\n",
    "plt.bar(x, y)\n",
    "\n",
    "plt.xlabel('Ano')\n",
    "plt.ylabel('Consumo')\n",
    "plt.show()"
   ]
  },
  {
   "cell_type": "markdown",
   "id": "589eb3a8-9e88-4331-a23c-d139cfd69914",
   "metadata": {},
   "source": [
    "# Limpeza dos dados para o treinamento"
   ]
  },
  {
   "cell_type": "code",
   "execution_count": 55,
   "id": "1f030fd2-2bcc-4009-87e9-8f844c6eeab8",
   "metadata": {},
   "outputs": [
    {
     "data": {
      "text/html": [
       "<div>\n",
       "<style scoped>\n",
       "    .dataframe tbody tr th:only-of-type {\n",
       "        vertical-align: middle;\n",
       "    }\n",
       "\n",
       "    .dataframe tbody tr th {\n",
       "        vertical-align: top;\n",
       "    }\n",
       "\n",
       "    .dataframe thead th {\n",
       "        text-align: right;\n",
       "    }\n",
       "</style>\n",
       "<table border=\"1\" class=\"dataframe\">\n",
       "  <thead>\n",
       "    <tr style=\"text-align: right;\">\n",
       "      <th></th>\n",
       "      <th>ano</th>\n",
       "      <th>mes</th>\n",
       "      <th>sigla_uf</th>\n",
       "      <th>tipo_consumo</th>\n",
       "      <th>numero_consumidores</th>\n",
       "      <th>consumo</th>\n",
       "    </tr>\n",
       "  </thead>\n",
       "  <tbody>\n",
       "    <tr>\n",
       "      <th>0</th>\n",
       "      <td>2004</td>\n",
       "      <td>1</td>\n",
       "      <td>RO</td>\n",
       "      <td>Total</td>\n",
       "      <td>NaN</td>\n",
       "      <td>112812.00</td>\n",
       "    </tr>\n",
       "    <tr>\n",
       "      <th>1</th>\n",
       "      <td>2004</td>\n",
       "      <td>1</td>\n",
       "      <td>AC</td>\n",
       "      <td>Total</td>\n",
       "      <td>NaN</td>\n",
       "      <td>34840.05</td>\n",
       "    </tr>\n",
       "    <tr>\n",
       "      <th>2</th>\n",
       "      <td>2004</td>\n",
       "      <td>1</td>\n",
       "      <td>AM</td>\n",
       "      <td>Total</td>\n",
       "      <td>NaN</td>\n",
       "      <td>274773.00</td>\n",
       "    </tr>\n",
       "    <tr>\n",
       "      <th>3</th>\n",
       "      <td>2004</td>\n",
       "      <td>1</td>\n",
       "      <td>RR</td>\n",
       "      <td>Total</td>\n",
       "      <td>NaN</td>\n",
       "      <td>31695.63</td>\n",
       "    </tr>\n",
       "    <tr>\n",
       "      <th>4</th>\n",
       "      <td>2004</td>\n",
       "      <td>1</td>\n",
       "      <td>PA</td>\n",
       "      <td>Total</td>\n",
       "      <td>NaN</td>\n",
       "      <td>1011353.04</td>\n",
       "    </tr>\n",
       "    <tr>\n",
       "      <th>...</th>\n",
       "      <td>...</td>\n",
       "      <td>...</td>\n",
       "      <td>...</td>\n",
       "      <td>...</td>\n",
       "      <td>...</td>\n",
       "      <td>...</td>\n",
       "    </tr>\n",
       "    <tr>\n",
       "      <th>34987</th>\n",
       "      <td>2021</td>\n",
       "      <td>12</td>\n",
       "      <td>RS</td>\n",
       "      <td>Outros</td>\n",
       "      <td>NaN</td>\n",
       "      <td>536361.21</td>\n",
       "    </tr>\n",
       "    <tr>\n",
       "      <th>34988</th>\n",
       "      <td>2021</td>\n",
       "      <td>12</td>\n",
       "      <td>MS</td>\n",
       "      <td>Outros</td>\n",
       "      <td>NaN</td>\n",
       "      <td>117731.09</td>\n",
       "    </tr>\n",
       "    <tr>\n",
       "      <th>34989</th>\n",
       "      <td>2021</td>\n",
       "      <td>12</td>\n",
       "      <td>MT</td>\n",
       "      <td>Outros</td>\n",
       "      <td>NaN</td>\n",
       "      <td>187555.43</td>\n",
       "    </tr>\n",
       "    <tr>\n",
       "      <th>34990</th>\n",
       "      <td>2021</td>\n",
       "      <td>12</td>\n",
       "      <td>GO</td>\n",
       "      <td>Outros</td>\n",
       "      <td>NaN</td>\n",
       "      <td>262164.46</td>\n",
       "    </tr>\n",
       "    <tr>\n",
       "      <th>34991</th>\n",
       "      <td>2021</td>\n",
       "      <td>12</td>\n",
       "      <td>DF</td>\n",
       "      <td>Outros</td>\n",
       "      <td>NaN</td>\n",
       "      <td>118632.54</td>\n",
       "    </tr>\n",
       "  </tbody>\n",
       "</table>\n",
       "<p>34992 rows × 6 columns</p>\n",
       "</div>"
      ],
      "text/plain": [
       "        ano  mes sigla_uf tipo_consumo  numero_consumidores     consumo\n",
       "0      2004    1       RO        Total                  NaN   112812.00\n",
       "1      2004    1       AC        Total                  NaN    34840.05\n",
       "2      2004    1       AM        Total                  NaN   274773.00\n",
       "3      2004    1       RR        Total                  NaN    31695.63\n",
       "4      2004    1       PA        Total                  NaN  1011353.04\n",
       "...     ...  ...      ...          ...                  ...         ...\n",
       "34987  2021   12       RS       Outros                  NaN   536361.21\n",
       "34988  2021   12       MS       Outros                  NaN   117731.09\n",
       "34989  2021   12       MT       Outros                  NaN   187555.43\n",
       "34990  2021   12       GO       Outros                  NaN   262164.46\n",
       "34991  2021   12       DF       Outros                  NaN   118632.54\n",
       "\n",
       "[34992 rows x 6 columns]"
      ]
     },
     "metadata": {},
     "output_type": "display_data"
    }
   ],
   "source": [
    "# Vendo todas as colunas do dataframe\n",
    "display(df)"
   ]
  },
  {
   "cell_type": "code",
   "execution_count": 56,
   "id": "f69a1c71-15af-4f5a-8043-ad0ab9f3d4b7",
   "metadata": {},
   "outputs": [],
   "source": [
    "#Remove valores ausentes ou infinitos do dataset para poder treinalo\n",
    "new_df = df.copy()\n",
    "new_df.replace([np.inf, -np.inf], np.nan, inplace=True) # Substitui valores infinitos por NaN\n",
    "new_df.fillna(value=0, inplace=True) # Substitui todos os valores ausentes por zero"
   ]
  },
  {
   "cell_type": "code",
   "execution_count": 57,
   "id": "ed7d6ab3-ccba-4c14-ad60-b612abf8a72e",
   "metadata": {},
   "outputs": [
    {
     "data": {
      "text/html": [
       "<div>\n",
       "<style scoped>\n",
       "    .dataframe tbody tr th:only-of-type {\n",
       "        vertical-align: middle;\n",
       "    }\n",
       "\n",
       "    .dataframe tbody tr th {\n",
       "        vertical-align: top;\n",
       "    }\n",
       "\n",
       "    .dataframe thead th {\n",
       "        text-align: right;\n",
       "    }\n",
       "</style>\n",
       "<table border=\"1\" class=\"dataframe\">\n",
       "  <thead>\n",
       "    <tr style=\"text-align: right;\">\n",
       "      <th></th>\n",
       "      <th>ano</th>\n",
       "      <th>mes</th>\n",
       "      <th>sigla_uf</th>\n",
       "      <th>tipo_consumo</th>\n",
       "      <th>numero_consumidores</th>\n",
       "      <th>consumo</th>\n",
       "    </tr>\n",
       "  </thead>\n",
       "  <tbody>\n",
       "    <tr>\n",
       "      <th>0</th>\n",
       "      <td>2004</td>\n",
       "      <td>1</td>\n",
       "      <td>RO</td>\n",
       "      <td>Total</td>\n",
       "      <td>0.0</td>\n",
       "      <td>112812.00</td>\n",
       "    </tr>\n",
       "    <tr>\n",
       "      <th>1</th>\n",
       "      <td>2004</td>\n",
       "      <td>1</td>\n",
       "      <td>AC</td>\n",
       "      <td>Total</td>\n",
       "      <td>0.0</td>\n",
       "      <td>34840.05</td>\n",
       "    </tr>\n",
       "    <tr>\n",
       "      <th>2</th>\n",
       "      <td>2004</td>\n",
       "      <td>1</td>\n",
       "      <td>AM</td>\n",
       "      <td>Total</td>\n",
       "      <td>0.0</td>\n",
       "      <td>274773.00</td>\n",
       "    </tr>\n",
       "    <tr>\n",
       "      <th>3</th>\n",
       "      <td>2004</td>\n",
       "      <td>1</td>\n",
       "      <td>RR</td>\n",
       "      <td>Total</td>\n",
       "      <td>0.0</td>\n",
       "      <td>31695.63</td>\n",
       "    </tr>\n",
       "    <tr>\n",
       "      <th>4</th>\n",
       "      <td>2004</td>\n",
       "      <td>1</td>\n",
       "      <td>PA</td>\n",
       "      <td>Total</td>\n",
       "      <td>0.0</td>\n",
       "      <td>1011353.04</td>\n",
       "    </tr>\n",
       "    <tr>\n",
       "      <th>...</th>\n",
       "      <td>...</td>\n",
       "      <td>...</td>\n",
       "      <td>...</td>\n",
       "      <td>...</td>\n",
       "      <td>...</td>\n",
       "      <td>...</td>\n",
       "    </tr>\n",
       "    <tr>\n",
       "      <th>34987</th>\n",
       "      <td>2021</td>\n",
       "      <td>12</td>\n",
       "      <td>RS</td>\n",
       "      <td>Outros</td>\n",
       "      <td>0.0</td>\n",
       "      <td>536361.21</td>\n",
       "    </tr>\n",
       "    <tr>\n",
       "      <th>34988</th>\n",
       "      <td>2021</td>\n",
       "      <td>12</td>\n",
       "      <td>MS</td>\n",
       "      <td>Outros</td>\n",
       "      <td>0.0</td>\n",
       "      <td>117731.09</td>\n",
       "    </tr>\n",
       "    <tr>\n",
       "      <th>34989</th>\n",
       "      <td>2021</td>\n",
       "      <td>12</td>\n",
       "      <td>MT</td>\n",
       "      <td>Outros</td>\n",
       "      <td>0.0</td>\n",
       "      <td>187555.43</td>\n",
       "    </tr>\n",
       "    <tr>\n",
       "      <th>34990</th>\n",
       "      <td>2021</td>\n",
       "      <td>12</td>\n",
       "      <td>GO</td>\n",
       "      <td>Outros</td>\n",
       "      <td>0.0</td>\n",
       "      <td>262164.46</td>\n",
       "    </tr>\n",
       "    <tr>\n",
       "      <th>34991</th>\n",
       "      <td>2021</td>\n",
       "      <td>12</td>\n",
       "      <td>DF</td>\n",
       "      <td>Outros</td>\n",
       "      <td>0.0</td>\n",
       "      <td>118632.54</td>\n",
       "    </tr>\n",
       "  </tbody>\n",
       "</table>\n",
       "<p>34992 rows × 6 columns</p>\n",
       "</div>"
      ],
      "text/plain": [
       "        ano  mes sigla_uf tipo_consumo  numero_consumidores     consumo\n",
       "0      2004    1       RO        Total                  0.0   112812.00\n",
       "1      2004    1       AC        Total                  0.0    34840.05\n",
       "2      2004    1       AM        Total                  0.0   274773.00\n",
       "3      2004    1       RR        Total                  0.0    31695.63\n",
       "4      2004    1       PA        Total                  0.0  1011353.04\n",
       "...     ...  ...      ...          ...                  ...         ...\n",
       "34987  2021   12       RS       Outros                  0.0   536361.21\n",
       "34988  2021   12       MS       Outros                  0.0   117731.09\n",
       "34989  2021   12       MT       Outros                  0.0   187555.43\n",
       "34990  2021   12       GO       Outros                  0.0   262164.46\n",
       "34991  2021   12       DF       Outros                  0.0   118632.54\n",
       "\n",
       "[34992 rows x 6 columns]"
      ]
     },
     "metadata": {},
     "output_type": "display_data"
    }
   ],
   "source": [
    "display(new_df)"
   ]
  },
  {
   "cell_type": "code",
   "execution_count": 60,
   "id": "e7398edc-70c6-4489-ba88-f4013cec9a56",
   "metadata": {},
   "outputs": [
    {
     "name": "stdout",
     "output_type": "stream",
     "text": [
      "TIPO DE COMSUMO:  ['Total' 'Cativo' 'Residencial' 'Industrial' 'Comercial' 'Outros']\n",
      "SIGLA UF:  ['RO' 'AC' 'AM' 'RR' 'PA' 'AP' 'TO' 'MA' 'PI' 'CE' 'RN' 'PB' 'PE' 'AL'\n",
      " 'SE' 'BA' 'MG' 'ES' 'RJ' 'SP' 'PR' 'SC' 'RS' 'MS' 'MT' 'GO' 'DF']\n"
     ]
    }
   ],
   "source": [
    "#Mostra os objetos dentro dos atributos\n",
    "\n",
    "tipoconsumo = df['tipo_consumo'].unique()\n",
    "siglauf = df['sigla_uf'].unique()\n",
    "\n",
    "print(\"TIPO DE COMSUMO: \", tipoconsumo)\n",
    "print(\"SIGLA UF: \", siglauf)"
   ]
  },
  {
   "cell_type": "code",
   "execution_count": 64,
   "id": "89259cd6-9ac2-4adb-99f1-c1935b8ae131",
   "metadata": {},
   "outputs": [],
   "source": [
    "#Substituindo valores nominais do dataset por valores ordinais que possam ser lidos pela maquina\n",
    "\n",
    "#sigla_uf\n",
    "mapeamento = {'RO': 1, 'AC': 2, 'AM': 3, 'RR': 4, 'PA': 5, 'AP': 6, 'TO': 7, 'MA': 8, 'PI': 9, \n",
    "              'CE': 10, 'RN': 11, 'PB': 12, 'PE': 13, 'AL': 14, 'SE': 15, 'BA': 16, 'MG': 17, \n",
    "              'ES': 18, 'RJ': 19, 'SP': 20, 'PR': 21, 'SC': 22, 'RS': 23, 'MS': 24, 'MT': 25,\n",
    "              'GO': 26, 'DF': 27}\n",
    "new_df['sigla_uf'] = new_df['sigla_uf'].replace(mapeamento)\n",
    "\n",
    "#tipo_consumo\n",
    "mapeamento = {'Total': 1, 'Cativo': 2, 'Residencial': 3, 'Industrial': 4, 'Comercial': 5, 'Outros': 6}\n",
    "new_df['tipo_consumo'] = new_df['tipo_consumo'].replace(mapeamento)"
   ]
  },
  {
   "cell_type": "code",
   "execution_count": 66,
   "id": "5273c437-e8ec-4669-8fbe-64d2d449b047",
   "metadata": {},
   "outputs": [
    {
     "data": {
      "text/html": [
       "<div>\n",
       "<style scoped>\n",
       "    .dataframe tbody tr th:only-of-type {\n",
       "        vertical-align: middle;\n",
       "    }\n",
       "\n",
       "    .dataframe tbody tr th {\n",
       "        vertical-align: top;\n",
       "    }\n",
       "\n",
       "    .dataframe thead th {\n",
       "        text-align: right;\n",
       "    }\n",
       "</style>\n",
       "<table border=\"1\" class=\"dataframe\">\n",
       "  <thead>\n",
       "    <tr style=\"text-align: right;\">\n",
       "      <th></th>\n",
       "      <th>ano</th>\n",
       "      <th>mes</th>\n",
       "      <th>sigla_uf</th>\n",
       "      <th>tipo_consumo</th>\n",
       "      <th>numero_consumidores</th>\n",
       "      <th>consumo</th>\n",
       "    </tr>\n",
       "  </thead>\n",
       "  <tbody>\n",
       "    <tr>\n",
       "      <th>0</th>\n",
       "      <td>2004</td>\n",
       "      <td>1</td>\n",
       "      <td>1</td>\n",
       "      <td>1</td>\n",
       "      <td>0.0</td>\n",
       "      <td>112812.00</td>\n",
       "    </tr>\n",
       "    <tr>\n",
       "      <th>1</th>\n",
       "      <td>2004</td>\n",
       "      <td>1</td>\n",
       "      <td>2</td>\n",
       "      <td>1</td>\n",
       "      <td>0.0</td>\n",
       "      <td>34840.05</td>\n",
       "    </tr>\n",
       "    <tr>\n",
       "      <th>2</th>\n",
       "      <td>2004</td>\n",
       "      <td>1</td>\n",
       "      <td>3</td>\n",
       "      <td>1</td>\n",
       "      <td>0.0</td>\n",
       "      <td>274773.00</td>\n",
       "    </tr>\n",
       "    <tr>\n",
       "      <th>3</th>\n",
       "      <td>2004</td>\n",
       "      <td>1</td>\n",
       "      <td>4</td>\n",
       "      <td>1</td>\n",
       "      <td>0.0</td>\n",
       "      <td>31695.63</td>\n",
       "    </tr>\n",
       "    <tr>\n",
       "      <th>4</th>\n",
       "      <td>2004</td>\n",
       "      <td>1</td>\n",
       "      <td>5</td>\n",
       "      <td>1</td>\n",
       "      <td>0.0</td>\n",
       "      <td>1011353.04</td>\n",
       "    </tr>\n",
       "    <tr>\n",
       "      <th>...</th>\n",
       "      <td>...</td>\n",
       "      <td>...</td>\n",
       "      <td>...</td>\n",
       "      <td>...</td>\n",
       "      <td>...</td>\n",
       "      <td>...</td>\n",
       "    </tr>\n",
       "    <tr>\n",
       "      <th>34987</th>\n",
       "      <td>2021</td>\n",
       "      <td>12</td>\n",
       "      <td>23</td>\n",
       "      <td>6</td>\n",
       "      <td>0.0</td>\n",
       "      <td>536361.21</td>\n",
       "    </tr>\n",
       "    <tr>\n",
       "      <th>34988</th>\n",
       "      <td>2021</td>\n",
       "      <td>12</td>\n",
       "      <td>24</td>\n",
       "      <td>6</td>\n",
       "      <td>0.0</td>\n",
       "      <td>117731.09</td>\n",
       "    </tr>\n",
       "    <tr>\n",
       "      <th>34989</th>\n",
       "      <td>2021</td>\n",
       "      <td>12</td>\n",
       "      <td>25</td>\n",
       "      <td>6</td>\n",
       "      <td>0.0</td>\n",
       "      <td>187555.43</td>\n",
       "    </tr>\n",
       "    <tr>\n",
       "      <th>34990</th>\n",
       "      <td>2021</td>\n",
       "      <td>12</td>\n",
       "      <td>26</td>\n",
       "      <td>6</td>\n",
       "      <td>0.0</td>\n",
       "      <td>262164.46</td>\n",
       "    </tr>\n",
       "    <tr>\n",
       "      <th>34991</th>\n",
       "      <td>2021</td>\n",
       "      <td>12</td>\n",
       "      <td>27</td>\n",
       "      <td>6</td>\n",
       "      <td>0.0</td>\n",
       "      <td>118632.54</td>\n",
       "    </tr>\n",
       "  </tbody>\n",
       "</table>\n",
       "<p>34992 rows × 6 columns</p>\n",
       "</div>"
      ],
      "text/plain": [
       "        ano  mes  sigla_uf  tipo_consumo  numero_consumidores     consumo\n",
       "0      2004    1         1             1                  0.0   112812.00\n",
       "1      2004    1         2             1                  0.0    34840.05\n",
       "2      2004    1         3             1                  0.0   274773.00\n",
       "3      2004    1         4             1                  0.0    31695.63\n",
       "4      2004    1         5             1                  0.0  1011353.04\n",
       "...     ...  ...       ...           ...                  ...         ...\n",
       "34987  2021   12        23             6                  0.0   536361.21\n",
       "34988  2021   12        24             6                  0.0   117731.09\n",
       "34989  2021   12        25             6                  0.0   187555.43\n",
       "34990  2021   12        26             6                  0.0   262164.46\n",
       "34991  2021   12        27             6                  0.0   118632.54\n",
       "\n",
       "[34992 rows x 6 columns]"
      ]
     },
     "metadata": {},
     "output_type": "display_data"
    }
   ],
   "source": [
    "#Mostrando novamente os dados limpos\n",
    "display(new_df)"
   ]
  },
  {
   "cell_type": "code",
   "execution_count": 67,
   "id": "44dc8697-f140-4e7c-ac1c-5e384b127ece",
   "metadata": {},
   "outputs": [],
   "source": [
    "#Guarda o novo dataframe dentro de um outro csv com os dados já limpos para o treinamento\n",
    "new_df.to_csv('novos_dados.csv', index=False)"
   ]
  },
  {
   "cell_type": "markdown",
   "id": "8a67bda6-cc56-4ea1-a181-624ec95ce7a4",
   "metadata": {},
   "source": [
    "# Treinamento do modelo"
   ]
  },
  {
   "cell_type": "code",
   "execution_count": 69,
   "id": "06ce9b95-f417-4454-b124-6593467cc22a",
   "metadata": {},
   "outputs": [
    {
     "data": {
      "text/html": [
       "<div>\n",
       "<style scoped>\n",
       "    .dataframe tbody tr th:only-of-type {\n",
       "        vertical-align: middle;\n",
       "    }\n",
       "\n",
       "    .dataframe tbody tr th {\n",
       "        vertical-align: top;\n",
       "    }\n",
       "\n",
       "    .dataframe thead th {\n",
       "        text-align: right;\n",
       "    }\n",
       "</style>\n",
       "<table border=\"1\" class=\"dataframe\">\n",
       "  <thead>\n",
       "    <tr style=\"text-align: right;\">\n",
       "      <th></th>\n",
       "      <th>ano</th>\n",
       "      <th>mes</th>\n",
       "      <th>sigla_uf</th>\n",
       "      <th>tipo_consumo</th>\n",
       "      <th>numero_consumidores</th>\n",
       "      <th>consumo</th>\n",
       "    </tr>\n",
       "  </thead>\n",
       "  <tbody>\n",
       "    <tr>\n",
       "      <th>0</th>\n",
       "      <td>2004</td>\n",
       "      <td>1</td>\n",
       "      <td>1</td>\n",
       "      <td>1</td>\n",
       "      <td>0.0</td>\n",
       "      <td>112812.00</td>\n",
       "    </tr>\n",
       "    <tr>\n",
       "      <th>1</th>\n",
       "      <td>2004</td>\n",
       "      <td>1</td>\n",
       "      <td>2</td>\n",
       "      <td>1</td>\n",
       "      <td>0.0</td>\n",
       "      <td>34840.05</td>\n",
       "    </tr>\n",
       "    <tr>\n",
       "      <th>2</th>\n",
       "      <td>2004</td>\n",
       "      <td>1</td>\n",
       "      <td>3</td>\n",
       "      <td>1</td>\n",
       "      <td>0.0</td>\n",
       "      <td>274773.00</td>\n",
       "    </tr>\n",
       "    <tr>\n",
       "      <th>3</th>\n",
       "      <td>2004</td>\n",
       "      <td>1</td>\n",
       "      <td>4</td>\n",
       "      <td>1</td>\n",
       "      <td>0.0</td>\n",
       "      <td>31695.63</td>\n",
       "    </tr>\n",
       "    <tr>\n",
       "      <th>4</th>\n",
       "      <td>2004</td>\n",
       "      <td>1</td>\n",
       "      <td>5</td>\n",
       "      <td>1</td>\n",
       "      <td>0.0</td>\n",
       "      <td>1011353.04</td>\n",
       "    </tr>\n",
       "    <tr>\n",
       "      <th>...</th>\n",
       "      <td>...</td>\n",
       "      <td>...</td>\n",
       "      <td>...</td>\n",
       "      <td>...</td>\n",
       "      <td>...</td>\n",
       "      <td>...</td>\n",
       "    </tr>\n",
       "    <tr>\n",
       "      <th>34987</th>\n",
       "      <td>2021</td>\n",
       "      <td>12</td>\n",
       "      <td>23</td>\n",
       "      <td>6</td>\n",
       "      <td>0.0</td>\n",
       "      <td>536361.21</td>\n",
       "    </tr>\n",
       "    <tr>\n",
       "      <th>34988</th>\n",
       "      <td>2021</td>\n",
       "      <td>12</td>\n",
       "      <td>24</td>\n",
       "      <td>6</td>\n",
       "      <td>0.0</td>\n",
       "      <td>117731.09</td>\n",
       "    </tr>\n",
       "    <tr>\n",
       "      <th>34989</th>\n",
       "      <td>2021</td>\n",
       "      <td>12</td>\n",
       "      <td>25</td>\n",
       "      <td>6</td>\n",
       "      <td>0.0</td>\n",
       "      <td>187555.43</td>\n",
       "    </tr>\n",
       "    <tr>\n",
       "      <th>34990</th>\n",
       "      <td>2021</td>\n",
       "      <td>12</td>\n",
       "      <td>26</td>\n",
       "      <td>6</td>\n",
       "      <td>0.0</td>\n",
       "      <td>262164.46</td>\n",
       "    </tr>\n",
       "    <tr>\n",
       "      <th>34991</th>\n",
       "      <td>2021</td>\n",
       "      <td>12</td>\n",
       "      <td>27</td>\n",
       "      <td>6</td>\n",
       "      <td>0.0</td>\n",
       "      <td>118632.54</td>\n",
       "    </tr>\n",
       "  </tbody>\n",
       "</table>\n",
       "<p>34992 rows × 6 columns</p>\n",
       "</div>"
      ],
      "text/plain": [
       "        ano  mes  sigla_uf  tipo_consumo  numero_consumidores     consumo\n",
       "0      2004    1         1             1                  0.0   112812.00\n",
       "1      2004    1         2             1                  0.0    34840.05\n",
       "2      2004    1         3             1                  0.0   274773.00\n",
       "3      2004    1         4             1                  0.0    31695.63\n",
       "4      2004    1         5             1                  0.0  1011353.04\n",
       "...     ...  ...       ...           ...                  ...         ...\n",
       "34987  2021   12        23             6                  0.0   536361.21\n",
       "34988  2021   12        24             6                  0.0   117731.09\n",
       "34989  2021   12        25             6                  0.0   187555.43\n",
       "34990  2021   12        26             6                  0.0   262164.46\n",
       "34991  2021   12        27             6                  0.0   118632.54\n",
       "\n",
       "[34992 rows x 6 columns]"
      ]
     },
     "metadata": {},
     "output_type": "display_data"
    }
   ],
   "source": [
    "#Mostrando o novo dataset limpo e pronto para o treinamento\n",
    "dados = pd.read_csv('novos_dados.csv')\n",
    "display(dados)"
   ]
  },
  {
   "cell_type": "code",
   "execution_count": 71,
   "id": "9b5a75f3-f0c0-4c71-85e1-ee9c163ca915",
   "metadata": {},
   "outputs": [],
   "source": [
    "#Variáveis independente x que será usada para prever o consumo\n",
    "X = dados[['ano', 'mes', 'sigla_uf', 'tipo_consumo', 'numero_consumidores']]\n",
    "\n",
    "#Variável dependente y que será prevista, no caso o consumo\n",
    "y = dados['consumo']"
   ]
  },
  {
   "cell_type": "code",
   "execution_count": 72,
   "id": "5024acae-b700-4cdf-8e51-1929f30a03bb",
   "metadata": {},
   "outputs": [],
   "source": [
    "#dividindo os dados em conjuntos de treinamento e teste:\n",
    "from sklearn.model_selection import train_test_split\n",
    "X_train, X_test, y_train, y_test = train_test_split(X, y, test_size=0.2, random_state=42)"
   ]
  },
  {
   "cell_type": "code",
   "execution_count": 74,
   "id": "6e968252-8d8c-4d29-b5ee-be1bc3e66712",
   "metadata": {},
   "outputs": [
    {
     "data": {
      "text/plain": [
       "LinearRegression()"
      ]
     },
     "execution_count": 74,
     "metadata": {},
     "output_type": "execute_result"
    }
   ],
   "source": [
    "#Criando a instancia de regressão linear\n",
    "model = LinearRegression()\n",
    "model.fit(X_train, y_train)"
   ]
  },
  {
   "cell_type": "code",
   "execution_count": 76,
   "id": "2e881f14-0b71-4982-ac57-0a467d55c306",
   "metadata": {},
   "outputs": [],
   "source": [
    "#fazendo previsões com o modelo usando os dados de teste\n",
    "y_pred = model.predict(X_test)"
   ]
  },
  {
   "cell_type": "code",
   "execution_count": 77,
   "id": "2e07d16a-eb86-4cc3-bdfd-d292c9568a5f",
   "metadata": {},
   "outputs": [
    {
     "name": "stdout",
     "output_type": "stream",
     "text": [
      "R²: 0.1674096861849198\n",
      "MAE: 564974.6870631436\n"
     ]
    }
   ],
   "source": [
    "#Avaliando o desempenho do modelo usando métricas como R² e MAE:\n",
    "from sklearn.metrics import r2_score, mean_absolute_error\n",
    "print('R²:', r2_score(y_test, y_pred))\n",
    "print('MAE:', mean_absolute_error(y_test, y_pred))"
   ]
  },
  {
   "cell_type": "code",
   "execution_count": 78,
   "id": "e389766f-263d-424c-b22c-9f788e08f42e",
   "metadata": {},
   "outputs": [
    {
     "data": {
      "image/png": "[encoded data removed]",
      "text/plain": [
       "<Figure size 640x480 with 1 Axes>"
      ]
     },
     "metadata": {},
     "output_type": "display_data"
    }
   ],
   "source": [
    "#Visualizando as previsões do modelo em comparação com os valores reais usando um gráfico de dispersão:\n",
    "plt.scatter(y_test, y_pred)\n",
    "plt.xlabel('Valores reais')\n",
    "plt.ylabel('Valores previstos')\n",
    "plt.show()"
   ]
  },
  {
   "cell_type": "code",
   "execution_count": 79,
   "id": "91f9ecc9-9e76-4276-8b57-447aeb5a2de5",
   "metadata": {},
   "outputs": [],
   "source": [
    "#Exportando o modelo para o uso em streamlit\n",
    "import pickle\n",
    "\n",
    "with open('modelo.pkl', 'wb') as file:\n",
    "    pickle.dump(model, file)"
   ]
  },
  {
   "cell_type": "markdown",
   "id": "d8a45a79-b8dc-4404-9d92-6b45fd53666a",
   "metadata": {},
   "source": [
    "# Testando o modelo injetando uma previsão nele"
   ]
  },
  {
   "cell_type": "code",
   "execution_count": 85,
   "id": "101a508e-c209-47df-92f8-b3d6055dd75f",
   "metadata": {},
   "outputs": [
    {
     "name": "stdout",
     "output_type": "stream",
     "text": [
      "A previsão é: [1035990.69237391]\n"
     ]
    },
    {
     "name": "stderr",
     "output_type": "stream",
     "text": [
      "C:\\Users\\Valde\\anaconda3\\lib\\site-packages\\sklearn\\base.py:450: UserWarning: X does not have valid feature names, but LinearRegression was fitted with feature names\n",
      "  warnings.warn(\n"
     ]
    }
   ],
   "source": [
    "#Tenta prever qual será o consumo residencial em dezembro de 2023 no estado de são paulo de uma casa com 3 pessoas\n",
    "X_new = np.array([[2023, 12, 20, 3, 3]])\n",
    "y_pred = model.predict(X_new)\n",
    "print('A previsão é:', y_pred)"
   ]
  },
  {
   "cell_type": "markdown",
   "id": "c0f69dcd-f216-4f65-8cfb-573540d4475d",
   "metadata": {},
   "source": [
    "No Dataset o consumo é em MWh então podemos dizer que é 1035990.69237391 MWh, não sei se esta previsão esta correta vamos testar outra."
   ]
  },
  {
   "cell_type": "code",
   "execution_count": 84,
   "id": "8405bcfe-a6d8-416d-b47b-58e02c3af847",
   "metadata": {},
   "outputs": [
    {
     "name": "stdout",
     "output_type": "stream",
     "text": [
      "A previsão é: [272633.18266954]\n"
     ]
    },
    {
     "name": "stderr",
     "output_type": "stream",
     "text": [
      "C:\\Users\\Valde\\anaconda3\\lib\\site-packages\\sklearn\\base.py:450: UserWarning: X does not have valid feature names, but LinearRegression was fitted with feature names\n",
      "  warnings.warn(\n"
     ]
    }
   ],
   "source": [
    "#Tenta prever qual será o consumo residencial em janeiro de 2021 no estado de roraima de uma casa com 1 pessoas\n",
    "X_new = np.array([[2021, 1, 1, 3, 1]])\n",
    "y_pred = model.predict(X_new)\n",
    "print('A previsão é:', y_pred)"
   ]
  },
  {
   "cell_type": "markdown",
   "id": "84dd3dac-0727-4f6f-82f4-ce10846a2617",
   "metadata": {},
   "source": [
    "Bom, precisamos levar em consideração que:\n",
    "\n",
    "    1. O consumo é mensal em MWh não KWh\n",
    "    2. Faz muito sentido que quando formos medir individualmente pessoa por pessoa como vem na conta de luz o consumo por KWh, mas aqui medimos coletivamente em MWh por mês\n",
    "    3. Isso significa que medimos uma região inteira (no caso um estado) e dividimos essa medição em mês, ano, tipo de consumo e numero de consumidores.\n",
    "    4. Por isso a minha premissa acima de que podemos medir \"Tenta prever qual será o consumo residencial em dezembro de 2023 no estado de são paulo de uma casa com 3 pessoas\" ou então \"Tenta prever qual será o consumo residencial em janeiro de 2021 no estado de roraima de uma casa com 1 pessoas\" esta errada, não estamos prevendo de uma unica pessoa e sim de um coletivo inteiro, sendo assim o modelo pode prever o consumo por estado, por ano, por mês, por tipo de consumo e por numero de consumidores, só que repare que, quando o dataset foi limpo quase dez mil entradas de numero_consumidores foram substituidas por 0.0 pois estavam nulas (NaN) oque significa que o número de consumidores pode não intervir tanto assim na saída do modelo.\n",
    "    5. Resumindo, o modelo pode prever por coletivo não por individuo, logo é inútil tentar usa-lo para poder ver de quanto será o consumo da sua casa."
   ]
  },
  {
   "cell_type": "markdown",
   "id": "6a3a9529-2a1b-4d9d-94ff-55697ad60be2",
   "metadata": {},
   "source": [
    "# Remoção da coluna numero_consumidores para ver se isso afeta as saídas do modelo"
   ]
  },
  {
   "cell_type": "code",
   "execution_count": 86,
   "id": "8c8365b9-06a9-42bb-9b28-444224d57700",
   "metadata": {},
   "outputs": [
    {
     "data": {
      "text/html": [
       "<div>\n",
       "<style scoped>\n",
       "    .dataframe tbody tr th:only-of-type {\n",
       "        vertical-align: middle;\n",
       "    }\n",
       "\n",
       "    .dataframe tbody tr th {\n",
       "        vertical-align: top;\n",
       "    }\n",
       "\n",
       "    .dataframe thead th {\n",
       "        text-align: right;\n",
       "    }\n",
       "</style>\n",
       "<table border=\"1\" class=\"dataframe\">\n",
       "  <thead>\n",
       "    <tr style=\"text-align: right;\">\n",
       "      <th></th>\n",
       "      <th>ano</th>\n",
       "      <th>mes</th>\n",
       "      <th>sigla_uf</th>\n",
       "      <th>tipo_consumo</th>\n",
       "      <th>consumo</th>\n",
       "    </tr>\n",
       "  </thead>\n",
       "  <tbody>\n",
       "    <tr>\n",
       "      <th>0</th>\n",
       "      <td>2004</td>\n",
       "      <td>1</td>\n",
       "      <td>1</td>\n",
       "      <td>1</td>\n",
       "      <td>112812.00</td>\n",
       "    </tr>\n",
       "    <tr>\n",
       "      <th>1</th>\n",
       "      <td>2004</td>\n",
       "      <td>1</td>\n",
       "      <td>2</td>\n",
       "      <td>1</td>\n",
       "      <td>34840.05</td>\n",
       "    </tr>\n",
       "    <tr>\n",
       "      <th>2</th>\n",
       "      <td>2004</td>\n",
       "      <td>1</td>\n",
       "      <td>3</td>\n",
       "      <td>1</td>\n",
       "      <td>274773.00</td>\n",
       "    </tr>\n",
       "    <tr>\n",
       "      <th>3</th>\n",
       "      <td>2004</td>\n",
       "      <td>1</td>\n",
       "      <td>4</td>\n",
       "      <td>1</td>\n",
       "      <td>31695.63</td>\n",
       "    </tr>\n",
       "    <tr>\n",
       "      <th>4</th>\n",
       "      <td>2004</td>\n",
       "      <td>1</td>\n",
       "      <td>5</td>\n",
       "      <td>1</td>\n",
       "      <td>1011353.04</td>\n",
       "    </tr>\n",
       "    <tr>\n",
       "      <th>...</th>\n",
       "      <td>...</td>\n",
       "      <td>...</td>\n",
       "      <td>...</td>\n",
       "      <td>...</td>\n",
       "      <td>...</td>\n",
       "    </tr>\n",
       "    <tr>\n",
       "      <th>34987</th>\n",
       "      <td>2021</td>\n",
       "      <td>12</td>\n",
       "      <td>23</td>\n",
       "      <td>6</td>\n",
       "      <td>536361.21</td>\n",
       "    </tr>\n",
       "    <tr>\n",
       "      <th>34988</th>\n",
       "      <td>2021</td>\n",
       "      <td>12</td>\n",
       "      <td>24</td>\n",
       "      <td>6</td>\n",
       "      <td>117731.09</td>\n",
       "    </tr>\n",
       "    <tr>\n",
       "      <th>34989</th>\n",
       "      <td>2021</td>\n",
       "      <td>12</td>\n",
       "      <td>25</td>\n",
       "      <td>6</td>\n",
       "      <td>187555.43</td>\n",
       "    </tr>\n",
       "    <tr>\n",
       "      <th>34990</th>\n",
       "      <td>2021</td>\n",
       "      <td>12</td>\n",
       "      <td>26</td>\n",
       "      <td>6</td>\n",
       "      <td>262164.46</td>\n",
       "    </tr>\n",
       "    <tr>\n",
       "      <th>34991</th>\n",
       "      <td>2021</td>\n",
       "      <td>12</td>\n",
       "      <td>27</td>\n",
       "      <td>6</td>\n",
       "      <td>118632.54</td>\n",
       "    </tr>\n",
       "  </tbody>\n",
       "</table>\n",
       "<p>34992 rows × 5 columns</p>\n",
       "</div>"
      ],
      "text/plain": [
       "        ano  mes  sigla_uf  tipo_consumo     consumo\n",
       "0      2004    1         1             1   112812.00\n",
       "1      2004    1         2             1    34840.05\n",
       "2      2004    1         3             1   274773.00\n",
       "3      2004    1         4             1    31695.63\n",
       "4      2004    1         5             1  1011353.04\n",
       "...     ...  ...       ...           ...         ...\n",
       "34987  2021   12        23             6   536361.21\n",
       "34988  2021   12        24             6   117731.09\n",
       "34989  2021   12        25             6   187555.43\n",
       "34990  2021   12        26             6   262164.46\n",
       "34991  2021   12        27             6   118632.54\n",
       "\n",
       "[34992 rows x 5 columns]"
      ]
     },
     "metadata": {},
     "output_type": "display_data"
    }
   ],
   "source": [
    "new_df = new_df.drop('numero_consumidores', axis=1)\n",
    "display(new_df)"
   ]
  },
  {
   "cell_type": "code",
   "execution_count": 98,
   "id": "3d91ac21-1dab-4782-971c-9e69d47f68ba",
   "metadata": {},
   "outputs": [],
   "source": [
    "new_df.to_csv('novos_dados_sem_numero_consumidores.csv', index=False)"
   ]
  },
  {
   "cell_type": "code",
   "execution_count": 106,
   "id": "0f57422e-0396-43db-b441-36ca86965c02",
   "metadata": {},
   "outputs": [
    {
     "data": {
      "text/html": [
       "<div>\n",
       "<style scoped>\n",
       "    .dataframe tbody tr th:only-of-type {\n",
       "        vertical-align: middle;\n",
       "    }\n",
       "\n",
       "    .dataframe tbody tr th {\n",
       "        vertical-align: top;\n",
       "    }\n",
       "\n",
       "    .dataframe thead th {\n",
       "        text-align: right;\n",
       "    }\n",
       "</style>\n",
       "<table border=\"1\" class=\"dataframe\">\n",
       "  <thead>\n",
       "    <tr style=\"text-align: right;\">\n",
       "      <th></th>\n",
       "      <th>ano</th>\n",
       "      <th>mes</th>\n",
       "      <th>sigla_uf</th>\n",
       "      <th>tipo_consumo</th>\n",
       "      <th>consumo</th>\n",
       "    </tr>\n",
       "  </thead>\n",
       "  <tbody>\n",
       "    <tr>\n",
       "      <th>0</th>\n",
       "      <td>2004</td>\n",
       "      <td>1</td>\n",
       "      <td>1</td>\n",
       "      <td>1</td>\n",
       "      <td>112812.00</td>\n",
       "    </tr>\n",
       "    <tr>\n",
       "      <th>1</th>\n",
       "      <td>2004</td>\n",
       "      <td>1</td>\n",
       "      <td>2</td>\n",
       "      <td>1</td>\n",
       "      <td>34840.05</td>\n",
       "    </tr>\n",
       "    <tr>\n",
       "      <th>2</th>\n",
       "      <td>2004</td>\n",
       "      <td>1</td>\n",
       "      <td>3</td>\n",
       "      <td>1</td>\n",
       "      <td>274773.00</td>\n",
       "    </tr>\n",
       "    <tr>\n",
       "      <th>3</th>\n",
       "      <td>2004</td>\n",
       "      <td>1</td>\n",
       "      <td>4</td>\n",
       "      <td>1</td>\n",
       "      <td>31695.63</td>\n",
       "    </tr>\n",
       "    <tr>\n",
       "      <th>4</th>\n",
       "      <td>2004</td>\n",
       "      <td>1</td>\n",
       "      <td>5</td>\n",
       "      <td>1</td>\n",
       "      <td>1011353.04</td>\n",
       "    </tr>\n",
       "    <tr>\n",
       "      <th>...</th>\n",
       "      <td>...</td>\n",
       "      <td>...</td>\n",
       "      <td>...</td>\n",
       "      <td>...</td>\n",
       "      <td>...</td>\n",
       "    </tr>\n",
       "    <tr>\n",
       "      <th>34987</th>\n",
       "      <td>2021</td>\n",
       "      <td>12</td>\n",
       "      <td>23</td>\n",
       "      <td>6</td>\n",
       "      <td>536361.21</td>\n",
       "    </tr>\n",
       "    <tr>\n",
       "      <th>34988</th>\n",
       "      <td>2021</td>\n",
       "      <td>12</td>\n",
       "      <td>24</td>\n",
       "      <td>6</td>\n",
       "      <td>117731.09</td>\n",
       "    </tr>\n",
       "    <tr>\n",
       "      <th>34989</th>\n",
       "      <td>2021</td>\n",
       "      <td>12</td>\n",
       "      <td>25</td>\n",
       "      <td>6</td>\n",
       "      <td>187555.43</td>\n",
       "    </tr>\n",
       "    <tr>\n",
       "      <th>34990</th>\n",
       "      <td>2021</td>\n",
       "      <td>12</td>\n",
       "      <td>26</td>\n",
       "      <td>6</td>\n",
       "      <td>262164.46</td>\n",
       "    </tr>\n",
       "    <tr>\n",
       "      <th>34991</th>\n",
       "      <td>2021</td>\n",
       "      <td>12</td>\n",
       "      <td>27</td>\n",
       "      <td>6</td>\n",
       "      <td>118632.54</td>\n",
       "    </tr>\n",
       "  </tbody>\n",
       "</table>\n",
       "<p>34992 rows × 5 columns</p>\n",
       "</div>"
      ],
      "text/plain": [
       "        ano  mes  sigla_uf  tipo_consumo     consumo\n",
       "0      2004    1         1             1   112812.00\n",
       "1      2004    1         2             1    34840.05\n",
       "2      2004    1         3             1   274773.00\n",
       "3      2004    1         4             1    31695.63\n",
       "4      2004    1         5             1  1011353.04\n",
       "...     ...  ...       ...           ...         ...\n",
       "34987  2021   12        23             6   536361.21\n",
       "34988  2021   12        24             6   117731.09\n",
       "34989  2021   12        25             6   187555.43\n",
       "34990  2021   12        26             6   262164.46\n",
       "34991  2021   12        27             6   118632.54\n",
       "\n",
       "[34992 rows x 5 columns]"
      ]
     },
     "metadata": {},
     "output_type": "display_data"
    }
   ],
   "source": [
    "data = pd.read_csv('novos_dados_sem_numero_consumidores.csv')\n",
    "display(data)"
   ]
  },
  {
   "cell_type": "code",
   "execution_count": 107,
   "id": "fdd83b01-b0fd-4c7e-aae4-bbe96861d5b2",
   "metadata": {},
   "outputs": [],
   "source": [
    "#Variáveis independente x que será usada para prever o consumo\n",
    "Xdata = data[['ano', 'mes', 'sigla_uf', 'tipo_consumo']]\n",
    "\n",
    "#Variável dependente y que será prevista, no caso o consumo\n",
    "ydata = data['consumo']"
   ]
  },
  {
   "cell_type": "code",
   "execution_count": 108,
   "id": "bbcf6cf9-1d15-4a7f-9002-7caee12c4c54",
   "metadata": {},
   "outputs": [],
   "source": [
    "#dividindo os dados em conjuntos de treinamento e teste:\n",
    "from sklearn.model_selection import train_test_split\n",
    "Xdata_train, Xdata_test, ydata_train, ydata_test = train_test_split(Xdata, ydata, test_size=0.2, random_state=42)"
   ]
  },
  {
   "cell_type": "code",
   "execution_count": 109,
   "id": "cd850fa0-ac15-4b3e-a725-aad9166a7d03",
   "metadata": {},
   "outputs": [
    {
     "data": {
      "text/plain": [
       "LinearRegression()"
      ]
     },
     "execution_count": 109,
     "metadata": {},
     "output_type": "execute_result"
    }
   ],
   "source": [
    "#Criando a instancia de regressão linear\n",
    "model = LinearRegression()\n",
    "model.fit(Xdata_train, ydata_train)"
   ]
  },
  {
   "cell_type": "code",
   "execution_count": 110,
   "id": "18b6be6d-1ac7-416f-9ac9-cf9a4b9d8bcc",
   "metadata": {},
   "outputs": [],
   "source": [
    "#fazendo previsões com o modelo usando os dados de teste\n",
    "ydata_pred = model.predict(Xdata_test)"
   ]
  },
  {
   "cell_type": "code",
   "execution_count": 111,
   "id": "f42d8574-8523-4e04-876a-bddbc75a7a36",
   "metadata": {},
   "outputs": [
    {
     "name": "stdout",
     "output_type": "stream",
     "text": [
      "R²: 0.16264141477091232\n",
      "MAE: 565816.2274686036\n"
     ]
    }
   ],
   "source": [
    "#Avaliando o desempenho do modelo usando métricas como R² e MAE:\n",
    "from sklearn.metrics import r2_score, mean_absolute_error\n",
    "print('R²:', r2_score(ydata_test, ydata_pred))\n",
    "print('MAE:', mean_absolute_error(ydata_test, ydata_pred))"
   ]
  },
  {
   "cell_type": "code",
   "execution_count": 112,
   "id": "7a36b7c8-ce36-43f7-a21b-a70b8aa35fcb",
   "metadata": {},
   "outputs": [
    {
     "data": {
      "image/png": "[encoded data removed]",
      "text/plain": [
       "<Figure size 640x480 with 1 Axes>"
      ]
     },
     "metadata": {},
     "output_type": "display_data"
    }
   ],
   "source": [
    "#Visualizando as previsões do modelo em comparação com os valores reais usando um gráfico de dispersão:\n",
    "plt.scatter(ydata_test, ydata_pred)\n",
    "plt.xlabel('Valores reais')\n",
    "plt.ylabel('Valores previstos')\n",
    "plt.show()"
   ]
  },
  {
   "cell_type": "code",
   "execution_count": 113,
   "id": "70cc218b-5471-4603-831d-59c192d8c21f",
   "metadata": {},
   "outputs": [
    {
     "data": {
      "image/png": "[encoded data removed]",
      "text/plain": [
       "<Figure size 640x480 with 1 Axes>"
      ]
     },
     "metadata": {},
     "output_type": "display_data"
    }
   ],
   "source": [
    "#Comparando ou o outro:\n",
    "plt.scatter(y_test, y_pred)\n",
    "plt.xlabel('Valores reais')\n",
    "plt.ylabel('Valores previstos')\n",
    "plt.show()"
   ]
  },
  {
   "cell_type": "markdown",
   "id": "42b61c71-2830-48ed-993d-a12d3e528d47",
   "metadata": {},
   "source": [
    "### Como pode ver a coluna \"numero_consumidores\" parece não causar nenhum impacto no treinamento do modelo.\n",
    "\n",
    "Vamos então testar da mesma forma de antes: "
   ]
  },
  {
   "cell_type": "code",
   "execution_count": 115,
   "id": "90f3e8ba-e79a-4cfc-bfb1-17d0b192ab67",
   "metadata": {},
   "outputs": [
    {
     "name": "stdout",
     "output_type": "stream",
     "text": [
      "A previsão é: [1069577.48741759]\n",
      "A previsão é: [282875.54044172]\n"
     ]
    },
    {
     "name": "stderr",
     "output_type": "stream",
     "text": [
      "C:\\Users\\Valde\\anaconda3\\lib\\site-packages\\sklearn\\base.py:450: UserWarning: X does not have valid feature names, but LinearRegression was fitted with feature names\n",
      "  warnings.warn(\n",
      "C:\\Users\\Valde\\anaconda3\\lib\\site-packages\\sklearn\\base.py:450: UserWarning: X does not have valid feature names, but LinearRegression was fitted with feature names\n",
      "  warnings.warn(\n"
     ]
    }
   ],
   "source": [
    "#Tenta prever qual será o consumo residencial em dezembro de 2023 no estado de são paulo de uma casa com 3 pessoas\n",
    "Xdata_new = np.array([[2023, 12, 20, 3]])\n",
    "ydata_pred = model.predict(Xdata_new)\n",
    "print('A previsão é:', ydata_pred)\n",
    "\n",
    "#Tenta prever qual será o consumo residencial em janeiro de 2021 no estado de roraima de uma casa com 1 pessoas\n",
    "Xdata_new = np.array([[2021, 1, 1, 3]])\n",
    "ydata_pred = model.predict(Xdata_new)\n",
    "print('A previsão é:', ydata_pred)"
   ]
  },
  {
   "cell_type": "markdown",
   "id": "db995153-22e9-405f-bbfe-b1b080e1b760",
   "metadata": {},
   "source": [
    "As antigas previsões eram de: \n",
    "\n",
    "    A previsão é: [1035990.69237391]\n",
    "    A previsão é: [272633.18266954]\n",
    "    \n",
    "Com um MAE e um R² de:\n",
    "\n",
    "    R²: 0.16264141477091232\n",
    "    MAE: 565816.2274686036\n",
    "\n",
    "E as novas são de: \n",
    "\n",
    "    A previsão é: [1069577.48741759]\n",
    "    A previsão é: [282875.54044172]\n",
    "\n",
    "Com um MAE e um R² de:\n",
    "\n",
    "    R²: 0.16264141477091232\n",
    "    MAE: 565816.2274686036\n",
    "    \n",
    "Podemos então ver que intervere sim no modelo a ausência do atributo \"numero_consumidores\" por mais que este impacto seja pequeno, quase irrelevante, visto que o R² e o MAE são idênticos podemos assumir que usar ou não este atributo infere pouco na predição.\n",
    "\n",
    "Podemos ainda notar que:\n",
    "\n",
    "    1. Existe pouca diferença de uma predição para outra\n",
    "    2. Nesta pouca diferença notamos que os números sem a coluna numero_consumidores são maiores que os que possuem esta coluna\n",
    "    3. Esta diferença deve ser causada por uma extrapolação que o modelo faz na falta desta coluna, uma vez que sem ela a predição deve ficar menos exata.\n",
    "    4. Concluindo: a coluna faz diferença e que é melhor mante-la SE POSSÍVEL."
   ]
  },
  {
   "cell_type": "code",
   "execution_count": null,
   "id": "7d537197-2dd9-409b-be9b-540aae99636d",
   "metadata": {},
   "outputs": [],
   "source": []
  }
 ],
 "metadata": {
  "kernelspec": {
   "display_name": "Python 3 (ipykernel)",
   "language": "python",
   "name": "python3"
  },
  "language_info": {
   "codemirror_mode": {
    "name": "ipython",
    "version": 3
   },
   "file_extension": ".py",
   "mimetype": "text/x-python",
   "name": "python",
   "nbconvert_exporter": "python",
   "pygments_lexer": "ipython3",
   "version": "3.9.13"
  }
 },
 "nbformat": 4,
 "nbformat_minor": 5
}
